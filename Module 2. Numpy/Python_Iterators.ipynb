{
  "nbformat": 4,
  "nbformat_minor": 0,
  "metadata": {
    "colab": {
      "name": "Python_Iterators.ipynb",
      "version": "0.3.2",
      "provenance": [],
      "collapsed_sections": []
    },
    "kernelspec": {
      "name": "python3",
      "display_name": "Python 3"
    }
  },
  "cells": [
    {
      "cell_type": "markdown",
      "metadata": {
        "id": "5O-oomrfKc71",
        "colab_type": "text"
      },
      "source": [
        "#Python Iterators\n",
        "\n",
        "An iterator is an object that contains a countable number of values.\n",
        "\n",
        "An iterator is an object that can be iterated upon, meaning that you can traverse through all the values.\n",
        "\n",
        "Technically, in Python, an iterator is an object which implements the** iterator protocol,** which consist of the methods __iter__() and __next__().\n",
        "\n",
        "---\n",
        "\n",
        "**Iterator vs Iterable**\n",
        "\n",
        "Lists, tuples, dictionaries, and sets are all iterable objects. They are iterable containers which you can get an iterator from.\n",
        "\n",
        "All these objects have a **iter()** method which is used to get an iterator:\n",
        "\n",
        "---\n",
        "\n"
      ]
    },
    {
      "cell_type": "markdown",
      "metadata": {
        "id": "Hnt_cnRpLUaN",
        "colab_type": "text"
      },
      "source": [
        "Return an iterator from a tuple, and print each value:"
      ]
    },
    {
      "cell_type": "code",
      "metadata": {
        "id": "4_ZOJJ0XKNhy",
        "colab_type": "code",
        "outputId": "a5437f1e-907c-4227-bc14-2412e257001c",
        "colab": {
          "base_uri": "https://localhost:8080/",
          "height": 68
        }
      },
      "source": [
        "mytuple = (\"apple\", \"banana\", \"cherry\")\n",
        "myit = iter(mytuple)\n",
        "\n",
        "print(next(myit))\n",
        "print(next(myit))\n",
        "print(next(myit))"
      ],
      "execution_count": 0,
      "outputs": [
        {
          "output_type": "stream",
          "text": [
            "apple\n",
            "banana\n",
            "cherry\n"
          ],
          "name": "stdout"
        }
      ]
    },
    {
      "cell_type": "markdown",
      "metadata": {
        "id": "FHDiqzocL9yU",
        "colab_type": "text"
      },
      "source": [
        "Even strings are iterable objects, and can return an iterator"
      ]
    },
    {
      "cell_type": "code",
      "metadata": {
        "id": "j94ZULkAMCj8",
        "colab_type": "code",
        "outputId": "07ce6e5a-4bf4-412e-ba8b-97bbef2b399f",
        "colab": {
          "base_uri": "https://localhost:8080/",
          "height": 119
        }
      },
      "source": [
        "mystr = \"banana\"\n",
        "myit = iter(mystr)\n",
        "\n",
        "print(next(myit))\n",
        "print(next(myit))\n",
        "print(next(myit))\n",
        "print(next(myit))\n",
        "print(next(myit))\n",
        "print(next(myit))"
      ],
      "execution_count": 0,
      "outputs": [
        {
          "output_type": "stream",
          "text": [
            "b\n",
            "a\n",
            "n\n",
            "a\n",
            "n\n",
            "a\n"
          ],
          "name": "stdout"
        }
      ]
    },
    {
      "cell_type": "markdown",
      "metadata": {
        "id": "04t4zJvzMFTz",
        "colab_type": "text"
      },
      "source": [
        "**Looping Through an Iterator**\n",
        "\n",
        "We can also use a for loop to iterate through an iterable object:\n",
        "\n",
        "---\n",
        "\n",
        "Iterate the values of a tuple:"
      ]
    },
    {
      "cell_type": "code",
      "metadata": {
        "id": "HqorBX4IMLcT",
        "colab_type": "code",
        "outputId": "99a9aebd-60f0-4240-df48-04a6cd55d510",
        "colab": {
          "base_uri": "https://localhost:8080/",
          "height": 68
        }
      },
      "source": [
        "mytuple = (\"apple\", \"banana\", \"cherry\")\n",
        "\n",
        "for x in mytuple:\n",
        "  print(x)"
      ],
      "execution_count": 0,
      "outputs": [
        {
          "output_type": "stream",
          "text": [
            "apple\n",
            "banana\n",
            "cherry\n"
          ],
          "name": "stdout"
        }
      ]
    },
    {
      "cell_type": "markdown",
      "metadata": {
        "id": "_Yo-Ta8qMVXg",
        "colab_type": "text"
      },
      "source": [
        "Iterate the characters of a string:"
      ]
    },
    {
      "cell_type": "code",
      "metadata": {
        "id": "4aN3oB6uMYev",
        "colab_type": "code",
        "outputId": "bedb1cad-1250-444c-f3c0-ea0863539be8",
        "colab": {
          "base_uri": "https://localhost:8080/",
          "height": 119
        }
      },
      "source": [
        "mystr = \"banana\"\n",
        "\n",
        "for x in mystr:\n",
        "  print(x)"
      ],
      "execution_count": 0,
      "outputs": [
        {
          "output_type": "stream",
          "text": [
            "b\n",
            "a\n",
            "n\n",
            "a\n",
            "n\n",
            "a\n"
          ],
          "name": "stdout"
        }
      ]
    },
    {
      "cell_type": "markdown",
      "metadata": {
        "id": "UDIadR9QMbPC",
        "colab_type": "text"
      },
      "source": [
        "The for loop actually creates an iterator object and executes the next() method for each loop.\n"
      ]
    },
    {
      "cell_type": "markdown",
      "metadata": {
        "id": "esu0UKUoMf-V",
        "colab_type": "text"
      },
      "source": [
        "#Create an Iterator\n",
        "\n",
        "To create an object/class as an iterator you have to implement the methods __iter__() and __next__() to your object.\n",
        "\n",
        "As you have learned in the Python Classes/Objects chapter, all classes have a function called __init__(), which allows you do some initializing when the object is being created.\n",
        "\n",
        "The __iter__() method acts similar, you can do operations (initializing etc.), but must always return the iterator object itself.\n",
        "\n",
        "The __next__() method also allows you to do operations, and must return the next item in the sequence."
      ]
    },
    {
      "cell_type": "markdown",
      "metadata": {
        "id": "aYXt4YCwM17M",
        "colab_type": "text"
      },
      "source": [
        "**Example:** Create an iterator that returns numbers, starting with 1, and each sequence will increase by one (returning 1,2,3,4,5 etc.):"
      ]
    },
    {
      "cell_type": "code",
      "metadata": {
        "id": "n3cH3r1KMzRr",
        "colab_type": "code",
        "outputId": "8589da57-0ef4-4abd-b725-2256faa767d0",
        "colab": {
          "base_uri": "https://localhost:8080/",
          "height": 136
        }
      },
      "source": [
        "class MyNumbers:\n",
        "  def __iter__(self):\n",
        "    self.a = 1\n",
        "    return self\n",
        "  \n",
        "  def __next__(self):\n",
        "    x = self.a\n",
        "    self.a += 1\n",
        "    return x\n",
        " \n",
        "myclass = MyNumbers()\n",
        "myiter = iter(myclass)\n",
        "\n",
        "print(next(myiter))\n",
        "print(next(myiter))\n",
        "print(next(myiter))\n",
        "print(next(myiter))\n",
        "print(next(myiter))\n",
        "print(next(myiter))\n",
        "print(next(myiter))"
      ],
      "execution_count": 0,
      "outputs": [
        {
          "output_type": "stream",
          "text": [
            "1\n",
            "2\n",
            "3\n",
            "4\n",
            "5\n",
            "6\n",
            "7\n"
          ],
          "name": "stdout"
        }
      ]
    },
    {
      "cell_type": "markdown",
      "metadata": {
        "id": "MLX-UZaDOLMQ",
        "colab_type": "text"
      },
      "source": [
        "**StopIteration**\n",
        "\n",
        "The example above would continue forever if you had enough next() statements, or if it was used in a for loop.\n",
        "\n",
        "To prevent the iteration to go on forever, we can use the **StopIteration** statement.\n",
        "\n",
        "In the __next__() method, we can add a terminating condition to raise an error if the iteration is done a specified number of times:\n",
        "\n",
        "---\n",
        "\n",
        "Stop after 20 iterations:"
      ]
    },
    {
      "cell_type": "code",
      "metadata": {
        "id": "nQSnFIxRORjZ",
        "colab_type": "code",
        "outputId": "a46001ec-9af0-4904-d874-61c2b5d19306",
        "colab": {
          "base_uri": "https://localhost:8080/",
          "height": 357
        }
      },
      "source": [
        "class MyNumbers:\n",
        "  def __iter__(self):\n",
        "    self.a = 1\n",
        "    return self\n",
        "\n",
        "  def __next__(self):\n",
        "    if self.a <= 20:\n",
        "      x = self.a\n",
        "      self.a += 1\n",
        "      return x\n",
        "    else:\n",
        "      raise StopIteration\n",
        "\n",
        "myclass = MyNumbers()\n",
        "myiter = iter(myclass)\n",
        "\n",
        "for x in myiter:\n",
        "  print(x)"
      ],
      "execution_count": 0,
      "outputs": [
        {
          "output_type": "stream",
          "text": [
            "1\n",
            "2\n",
            "3\n",
            "4\n",
            "5\n",
            "6\n",
            "7\n",
            "8\n",
            "9\n",
            "10\n",
            "11\n",
            "12\n",
            "13\n",
            "14\n",
            "15\n",
            "16\n",
            "17\n",
            "18\n",
            "19\n",
            "20\n"
          ],
          "name": "stdout"
        }
      ]
    }
  ]
}