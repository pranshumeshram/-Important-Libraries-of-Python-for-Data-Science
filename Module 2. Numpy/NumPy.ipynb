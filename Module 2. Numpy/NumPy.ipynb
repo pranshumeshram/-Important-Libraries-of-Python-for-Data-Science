{
  "nbformat": 4,
  "nbformat_minor": 0,
  "metadata": {
    "colab": {
      "name": "NumPy.ipynb",
      "version": "0.3.2",
      "provenance": [],
      "collapsed_sections": []
    },
    "kernelspec": {
      "name": "python3",
      "display_name": "Python 3"
    }
  },
  "cells": [
    {
      "cell_type": "markdown",
      "metadata": {
        "id": "HL6FgeWpQ2p2",
        "colab_type": "text"
      },
      "source": [
        "# NumPy : Numeric Python\n",
        "\n",
        "---\n",
        "\n",
        "***NumPy is the package of scientific computing***\n",
        "\n",
        "---\n",
        "\n",
        "NumPy is the fundamental package for scientific computing with Python. It contains among other things:\n",
        "\n",
        "*   a powerful N-dimensional array (Ndarray) object\n",
        "*   sophisticated (broadcasting) functions\n",
        "*   tools for integrating C/C++ and Fortran code\n",
        "*   useful linear algebra, Fourier transform, and random number capabilities\n",
        "\n",
        "Besides its obvious scientific uses, **NumPy** can also be used as an efficient multi-dimensional container of generic data. Arbitrary data-types can be defined. This allows **NumPy** to seamlessly and speedily integrate with a wide variety of databases.\n",
        "\n",
        "**NumPy** is licensed under the ***BSD license***, enabling reuse with few restrictions.\n",
        "\n",
        "\n",
        "---\n",
        "\n",
        "NumPy’s main object is the homogeneous multidimensional array. It is a table of elements (usually numbers), all of the same type, indexed by a tuple of positive integers. In NumPy dimensions are called ***axes***.\n",
        "\n",
        "NumPy’s array class is called ***ndarray***. It is also known by the alias array.\n",
        "\n"
      ]
    },
    {
      "cell_type": "markdown",
      "metadata": {
        "id": "HrDvW9MjRhCk",
        "colab_type": "text"
      },
      "source": [
        "**Ndarray - NumPy Array**\n",
        "\n",
        "---\n",
        "\n",
        "The Ndarray is a multi-dimenstional array object consisting of two parts -- the actual data, some metadata which describes the stored data. They are indexed just like sequence are in python, starting from 0.\n",
        "\n",
        "*   Each element of Ndarray is an object of data-type object (called dtype)\n",
        "*   An item extracted form **ndarray**, is represented by a python object of an array scaler type \n",
        "\n",
        "---\n",
        "\n",
        "\n"
      ]
    },
    {
      "cell_type": "markdown",
      "metadata": {
        "id": "ePU_jUtJTrSC",
        "colab_type": "text"
      },
      "source": [
        "**The more important attributes of an ndarray object are:**\n",
        "\n",
        "---\n",
        "\n",
        "\n",
        "\n",
        "***ndarray.ndim*** : \n",
        "      the number of axes (dimensions) of the array.\n",
        "\n",
        "***ndarray.shape*** : \n",
        "the dimensions of the array. This is a tuple of integers indicating the size of the array in each dimension. For a matrix with n rows and m columns, shape will be (n,m). The length of the shape tuple is therefore the number of axes, ndim.\n",
        "\n",
        "***ndarray.size*** : \n",
        "the total number of elements of the array. This is equal to the product of the elements of shape.\n",
        "\n",
        "***ndarray.dtype*** :\n",
        "an object describing the type of the elements in the array. One can create or specify dtype’s using standard Python types. Additionally NumPy provides types of its own. numpy.int32, numpy.int16, and numpy.float64 are some examples.\n",
        "\n",
        "***ndarray.itemsize*** :\n",
        "the size in bytes of each element of the array. For example, an array of elements of type float64 has itemsize 8 (=64/8), while one of type complex32 has itemsize 4 (=32/8). It is equivalent to ndarray.dtype.itemsize.\n",
        " \n",
        " ***ndarray.data*** : \n",
        " the buffer containing the actual elements of the array. Normally, we won’t need to use this attribute because we will access the elements in an array using indexing facilities.\n",
        "\n",
        "---\n",
        "\n"
      ]
    },
    {
      "cell_type": "markdown",
      "metadata": {
        "id": "Tq2OHroUUoyj",
        "colab_type": "text"
      },
      "source": [
        "**An Example:**"
      ]
    },
    {
      "cell_type": "code",
      "metadata": {
        "id": "H64bFqj_oAjX",
        "colab_type": "code",
        "outputId": "8b1f507a-d9d6-4d75-d845-bc528e51b855",
        "colab": {
          "base_uri": "https://localhost:8080/",
          "height": 187
        }
      },
      "source": [
        "import numpy as np\n",
        "a = np.arange(15)# Create one-dimenstional array using arange() function\n",
        "print(a)\n",
        "\n",
        "#check the dimenstion of array\n",
        "print(a.ndim) \n",
        "\n",
        "#Reshape array \n",
        "a= a.reshape(3,5)\n",
        "print(a)\n",
        "\n",
        "#check the shape of array (rows, columns)\n",
        "print(a.shape)\n",
        "\n",
        "#check the size of array (the total number of elements of the array)\n",
        "print(a.size)\n",
        "\n",
        "#check data type of array\n",
        "print(a.dtype)\n",
        "\n",
        "#check itemsize of array\n",
        "print(a.itemsize)\n",
        "\n",
        "#check type of array\n",
        "print(type(a))"
      ],
      "execution_count": 0,
      "outputs": [
        {
          "output_type": "stream",
          "text": [
            "[ 0  1  2  3  4  5  6  7  8  9 10 11 12 13 14]\n",
            "1\n",
            "[[ 0  1  2  3  4]\n",
            " [ 5  6  7  8  9]\n",
            " [10 11 12 13 14]]\n",
            "(3, 5)\n",
            "15\n",
            "int64\n",
            "8\n",
            "<class 'numpy.ndarray'>\n"
          ],
          "name": "stdout"
        }
      ]
    },
    {
      "cell_type": "markdown",
      "metadata": {
        "id": "BwIlIUbHXr6z",
        "colab_type": "text"
      },
      "source": [
        "**Creating a NumPy Array - Single Dimensional Array**\n",
        "\n",
        "---\n",
        "\n",
        "There are several ways to create arrays.\n",
        "\n",
        "For example, you can create an array from a regular Python list or tuple using the array function. The type of the resulting array is deduced from the type of the elements in the sequences.\n"
      ]
    },
    {
      "cell_type": "code",
      "metadata": {
        "id": "9Y3m0VutYJJ_",
        "colab_type": "code",
        "outputId": "d1797344-70d2-4568-b258-b4a63d30bb67",
        "colab": {
          "base_uri": "https://localhost:8080/",
          "height": 85
        }
      },
      "source": [
        "import numpy as np\n",
        "\n",
        "a = np.array([2,3,4])\n",
        "print(\"array:\", a)\n",
        "print(a.dtype)\n",
        "\n",
        "b = np.array([1.0, 2.5, 3.0])\n",
        "print(\"array:\", b)\n",
        "print(b.dtype)"
      ],
      "execution_count": 0,
      "outputs": [
        {
          "output_type": "stream",
          "text": [
            "array: [2 3 4]\n",
            "int64\n",
            "array: [1.  2.5 3. ]\n",
            "float64\n"
          ],
          "name": "stdout"
        }
      ]
    },
    {
      "cell_type": "markdown",
      "metadata": {
        "id": "URL2ad30Yy3C",
        "colab_type": "text"
      },
      "source": [
        "**Note:** A frequent error consists in calling array with multiple numeric arguments, rather than providing a single list of numbers as an argument.\n",
        "\n",
        "---\n",
        "\n"
      ]
    },
    {
      "cell_type": "code",
      "metadata": {
        "id": "gH9s3mZVZF3W",
        "colab_type": "code",
        "outputId": "9459574b-b35b-450e-f357-f2694baa68a5",
        "colab": {
          "base_uri": "https://localhost:8080/",
          "height": 180
        }
      },
      "source": [
        "a = np.array(1,2,3,4) #Wrong\n",
        "print(a)\n",
        "\n",
        "a = np.array([1,2,3,4])  # RIGHT"
      ],
      "execution_count": 0,
      "outputs": [
        {
          "output_type": "error",
          "ename": "ValueError",
          "evalue": "ignored",
          "traceback": [
            "\u001b[0;31m---------------------------------------------------------------------------\u001b[0m",
            "\u001b[0;31mValueError\u001b[0m                                Traceback (most recent call last)",
            "\u001b[0;32m<ipython-input-29-b81880f2a002>\u001b[0m in \u001b[0;36m<module>\u001b[0;34m()\u001b[0m\n\u001b[0;32m----> 1\u001b[0;31m \u001b[0ma\u001b[0m \u001b[0;34m=\u001b[0m \u001b[0mnp\u001b[0m\u001b[0;34m.\u001b[0m\u001b[0marray\u001b[0m\u001b[0;34m(\u001b[0m\u001b[0;36m1\u001b[0m\u001b[0;34m,\u001b[0m\u001b[0;36m2\u001b[0m\u001b[0;34m,\u001b[0m\u001b[0;36m3\u001b[0m\u001b[0;34m,\u001b[0m\u001b[0;36m4\u001b[0m\u001b[0;34m)\u001b[0m\u001b[0;34m\u001b[0m\u001b[0;34m\u001b[0m\u001b[0m\n\u001b[0m\u001b[1;32m      2\u001b[0m \u001b[0mprint\u001b[0m\u001b[0;34m(\u001b[0m\u001b[0ma\u001b[0m\u001b[0;34m)\u001b[0m\u001b[0;34m\u001b[0m\u001b[0;34m\u001b[0m\u001b[0m\n",
            "\u001b[0;31mValueError\u001b[0m: only 2 non-keyword arguments accepted"
          ]
        }
      ]
    },
    {
      "cell_type": "markdown",
      "metadata": {
        "id": "prVQAYZpZXcT",
        "colab_type": "text"
      },
      "source": [
        "**Creating an array of numbers of a specific range or using range function**\n",
        "\n",
        "---\n",
        "\n",
        "Example:"
      ]
    },
    {
      "cell_type": "code",
      "metadata": {
        "id": "ia44jv8iaQ8C",
        "colab_type": "code",
        "outputId": "b57cc24c-2252-4a33-aa6d-9fb079e7e82d",
        "colab": {
          "base_uri": "https://localhost:8080/",
          "height": 51
        }
      },
      "source": [
        "import numpy as np\n",
        "\n",
        "a = np.arange(10, 100, 2) # np.arange(start, stop, step)"
      ],
      "execution_count": 0,
      "outputs": [
        {
          "output_type": "stream",
          "text": [
            "[10 12 14 16 18 20 22 24 26 28 30 32 34 36 38 40 42 44 46 48 50 52 54 56\n",
            " 58 60 62 64 66 68 70 72 74 76 78 80 82 84 86 88 90 92 94 96 98]\n"
          ],
          "name": "stdout"
        }
      ]
    },
    {
      "cell_type": "markdown",
      "metadata": {
        "id": "nGPof-Deafim",
        "colab_type": "text"
      },
      "source": [
        "**Creating a linearly spaced vector, with spacing**\n",
        "\n",
        "---\n",
        "\n",
        "Example:\n"
      ]
    },
    {
      "cell_type": "code",
      "metadata": {
        "id": "-PuM1H-Ba7NT",
        "colab_type": "code",
        "outputId": "ae3262bd-16f8-4d33-f972-ee83d11e64e5",
        "colab": {
          "base_uri": "https://localhost:8080/",
          "height": 34
        }
      },
      "source": [
        "import numpy as np\n",
        "\n",
        "vector = np.linspace(0, 20, 5)\n",
        "print(vector)"
      ],
      "execution_count": 0,
      "outputs": [
        {
          "output_type": "stream",
          "text": [
            "[ 0.  5. 10. 15. 20.]\n"
          ],
          "name": "stdout"
        }
      ]
    },
    {
      "cell_type": "markdown",
      "metadata": {
        "id": "Rh6v1GuvbF2X",
        "colab_type": "text"
      },
      "source": [
        "**Creating an array using existing data**\n",
        "\n",
        "---\n",
        "*   **numpy.asarray** - used for converting Python sequence into ndarrays\n",
        "*  ** syntax: **numpy.asarray(a, dtype = None, order = None)\n",
        "\n",
        "Example:\n",
        "\n"
      ]
    },
    {
      "cell_type": "code",
      "metadata": {
        "id": "rqrWrkTpbLsv",
        "colab_type": "code",
        "outputId": "786f9d93-8196-4fcf-9e92-7cb33bdf2a5a",
        "colab": {
          "base_uri": "https://localhost:8080/",
          "height": 51
        }
      },
      "source": [
        "import numpy\n",
        "\n",
        "x = [1,2,3]\n",
        "a = numpy.asarray(x)\n",
        "print(a)\n",
        "print(type(a))"
      ],
      "execution_count": 0,
      "outputs": [
        {
          "output_type": "stream",
          "text": [
            "[1 2 3]\n",
            "<class 'numpy.ndarray'>\n"
          ],
          "name": "stdout"
        }
      ]
    },
    {
      "cell_type": "markdown",
      "metadata": {
        "id": "h8VN3_Rkb-0h",
        "colab_type": "text"
      },
      "source": [
        "**Reshape or Restructuring a NumPy Array:**\n",
        "\n",
        "---\n",
        "\n",
        "One-dimensional arrays are then printed as **rows**, bidimensionals (two dimensional) as **matrices ** and tridimensionals (three dimensional)as lists of **matrices**."
      ]
    },
    {
      "cell_type": "code",
      "metadata": {
        "id": "1TfHj_42daHX",
        "colab_type": "code",
        "outputId": "ab94eba1-521a-40a4-c30e-b54a7b63bb06",
        "colab": {
          "base_uri": "https://localhost:8080/",
          "height": 238
        }
      },
      "source": [
        "import numpy as np\n",
        "\n",
        "# one dimensional or 1D array\n",
        "a = np.arange(6)\n",
        "print(a)\n",
        "print()\n",
        "\n",
        "#bidimensional or two dimensional array or 2D array\n",
        "b = np.arange(12)\n",
        "print(b.reshape(3,4))\n",
        "print()\n",
        "\n",
        "#three dimensional or 3D array\n",
        "c = np.arange(24)\n",
        "print(c.reshape(2,3,4))\n"
      ],
      "execution_count": 0,
      "outputs": [
        {
          "output_type": "stream",
          "text": [
            "[0 1 2 3 4 5]\n",
            "\n",
            "[[ 0  1  2  3]\n",
            " [ 4  5  6  7]\n",
            " [ 8  9 10 11]]\n",
            "\n",
            "[[[ 0  1  2  3]\n",
            "  [ 4  5  6  7]\n",
            "  [ 8  9 10 11]]\n",
            "\n",
            " [[12 13 14 15]\n",
            "  [16 17 18 19]\n",
            "  [20 21 22 23]]]\n"
          ],
          "name": "stdout"
        }
      ]
    },
    {
      "cell_type": "markdown",
      "metadata": {
        "id": "DHMSF3c8fhbO",
        "colab_type": "text"
      },
      "source": [
        "**NumPy Attributes:**\n",
        "\n",
        "The function ***zeros*** creates an array full of zeros, the function ***ones*** creates an array full of ones, and the function ***empty*** creates an array whose initial content is random and depends on the state of the memory. By default, the dtype of the created array is float64.\n",
        "\n",
        "---\n"
      ]
    },
    {
      "cell_type": "code",
      "metadata": {
        "id": "JdwxG8FFfpwi",
        "colab_type": "code",
        "outputId": "c2b991dc-ae48-4d44-dcdb-461e97f939a7",
        "colab": {
          "base_uri": "https://localhost:8080/",
          "height": 255
        }
      },
      "source": [
        "a = np.zeros( (3,4) )\n",
        "print(a)\n",
        "print()\n",
        "\n",
        "b = np.ones( (2,3,4), dtype=np.int16 )\n",
        "print(b)\n",
        "print()\n",
        "\n",
        "c = np.empty((2,3))\n",
        "print(c)"
      ],
      "execution_count": 0,
      "outputs": [
        {
          "output_type": "stream",
          "text": [
            "[[0. 0. 0. 0.]\n",
            " [0. 0. 0. 0.]\n",
            " [0. 0. 0. 0.]]\n",
            "\n",
            "[[[1 1 1 1]\n",
            "  [1 1 1 1]\n",
            "  [1 1 1 1]]\n",
            "\n",
            " [[1 1 1 1]\n",
            "  [1 1 1 1]\n",
            "  [1 1 1 1]]]\n",
            "\n",
            "[[0.0e+000 4.9e-324 9.9e-324]\n",
            " [1.5e-323 2.0e-323 2.5e-323]]\n"
          ],
          "name": "stdout"
        }
      ]
    },
    {
      "cell_type": "markdown",
      "metadata": {
        "id": "RurPD4SngUwB",
        "colab_type": "text"
      },
      "source": [
        "**Flatten the 3D array to get back the linear array:** : ***ravel() function***\n",
        "\n",
        "---\n",
        "\n"
      ]
    },
    {
      "cell_type": "code",
      "metadata": {
        "id": "cd7gPmoKfirN",
        "colab_type": "code",
        "outputId": "6eeba9e9-8bf0-4d10-9b4b-7299b336c475",
        "colab": {
          "base_uri": "https://localhost:8080/",
          "height": 170
        }
      },
      "source": [
        "b = np.ones( (2,3,4))\n",
        "print(b)\n",
        "print()\n",
        "\n",
        "print(b.ravel())"
      ],
      "execution_count": 0,
      "outputs": [
        {
          "output_type": "stream",
          "text": [
            "[[[1. 1. 1. 1.]\n",
            "  [1. 1. 1. 1.]\n",
            "  [1. 1. 1. 1.]]\n",
            "\n",
            " [[1. 1. 1. 1.]\n",
            "  [1. 1. 1. 1.]\n",
            "  [1. 1. 1. 1.]]]\n",
            "\n",
            "[1. 1. 1. 1. 1. 1. 1. 1. 1. 1. 1. 1. 1. 1. 1. 1. 1. 1. 1. 1. 1. 1. 1. 1.]\n"
          ],
          "name": "stdout"
        }
      ]
    },
    {
      "cell_type": "markdown",
      "metadata": {
        "id": "9udQPUGRg3OF",
        "colab_type": "text"
      },
      "source": [
        "**Basic Operation** \n",
        "\n",
        "---\n",
        "\n",
        "Arithmetic operators on arrays apply elementwise. A new array is created and filled with the result."
      ]
    },
    {
      "cell_type": "code",
      "metadata": {
        "id": "jyXSSDRnhE6l",
        "colab_type": "code",
        "outputId": "67cf84f3-8d42-4870-b390-d36c2d18df32",
        "colab": {
          "base_uri": "https://localhost:8080/",
          "height": 119
        }
      },
      "source": [
        "import numpy as np\n",
        "\n",
        "a = np.array([10,20,30,40])\n",
        "\n",
        "b = np.arange(4)\n",
        "\n",
        "c = a + b # addition\n",
        "print(c)\n",
        "\n",
        "d = a - b # subtraction\n",
        "print(d)\n",
        "\n",
        "e = a * b # multiplication\n",
        "print(e)\n",
        "\n",
        "print(b**2) # expontial\n",
        "\n",
        "print(a<25) # Boolen values\n",
        "\n",
        "print(np.sqrt(a)) #Square root value of each element of array\n",
        "\n",
        "\n"
      ],
      "execution_count": 0,
      "outputs": [
        {
          "output_type": "stream",
          "text": [
            "[10 21 32 43]\n",
            "[10 19 28 37]\n",
            "[  0  20  60 120]\n",
            "[0 1 4 9]\n",
            "[ True  True False False]\n",
            "[3.16227766 4.47213595 5.47722558 6.32455532]\n"
          ],
          "name": "stdout"
        }
      ]
    },
    {
      "cell_type": "markdown",
      "metadata": {
        "id": "HLILWqG0js0p",
        "colab_type": "text"
      },
      "source": [
        "Many unary operations, such as computing the sum of all the elements in the array, are implemented as methods of the ndarray class.\n",
        "\n",
        "---\n",
        "\n"
      ]
    },
    {
      "cell_type": "code",
      "metadata": {
        "id": "QFAAQNDwjuz9",
        "colab_type": "code",
        "outputId": "700b0046-4f85-4e7d-a07c-54898a87ebf8",
        "colab": {
          "base_uri": "https://localhost:8080/",
          "height": 102
        }
      },
      "source": [
        "a = np.random.random((2,3))\n",
        "print(a)\n",
        "\n",
        "print(\"sum:\", a.sum())\n",
        "\n",
        "print(\"min\", a.min())\n",
        "\n",
        "print(\"max:\", a.max())"
      ],
      "execution_count": 0,
      "outputs": [
        {
          "output_type": "stream",
          "text": [
            "[[0.17088387 0.85938958 0.03122912]\n",
            " [0.05580133 0.63799616 0.89100346]]\n",
            "sum: 2.646303515378495\n",
            "min 0.03122912047934112\n",
            "max: 0.8910034603138379\n"
          ],
          "name": "stdout"
        }
      ]
    },
    {
      "cell_type": "markdown",
      "metadata": {
        "id": "XRgR480IkEhF",
        "colab_type": "text"
      },
      "source": [
        "By default, these operations apply to the array as though it were a list of numbers, regardless of its shape. However, by specifying the axis parameter you can apply an operation along the specified axis of an array:\n",
        "\n",
        "---\n",
        "\n"
      ]
    },
    {
      "cell_type": "code",
      "metadata": {
        "id": "BV3RzOShkICg",
        "colab_type": "code",
        "outputId": "14faf8ed-c549-440a-e9a8-0f10d35bbc8d",
        "colab": {
          "base_uri": "https://localhost:8080/",
          "height": 153
        }
      },
      "source": [
        "b = np.arange(12).reshape(3,4)\n",
        "\n",
        "print(b)\n",
        "\n",
        "# sum of each column\n",
        "print(b.sum(axis = 0))\n",
        "\n",
        "# min of each row\n",
        "print(b.min(axis = 1))\n",
        "\n",
        "#cumulative sum along each row\n",
        "print(b.cumsum(axis = 1))"
      ],
      "execution_count": 0,
      "outputs": [
        {
          "output_type": "stream",
          "text": [
            "[[ 0  1  2  3]\n",
            " [ 4  5  6  7]\n",
            " [ 8  9 10 11]]\n",
            "[12 15 18 21]\n",
            "[0 4 8]\n",
            "[[ 0  1  3  6]\n",
            " [ 4  9 15 22]\n",
            " [ 8 17 27 38]]\n"
          ],
          "name": "stdout"
        }
      ]
    },
    {
      "cell_type": "markdown",
      "metadata": {
        "id": "cxGnayaik_rs",
        "colab_type": "text"
      },
      "source": [
        "#Indexing, Slicing and Iterating\n",
        "\n",
        "---\n",
        "\n",
        "One-dimensional arrays can be indexed, sliced and iterated over, much like lists and other Python sequences."
      ]
    },
    {
      "cell_type": "code",
      "metadata": {
        "id": "9mA1m69ElDya",
        "colab_type": "code",
        "outputId": "41c550b8-ab77-43c8-ad89-d1bff01d5ab8",
        "colab": {
          "base_uri": "https://localhost:8080/",
          "height": 34
        }
      },
      "source": [
        "import numpy as np\n",
        "\n",
        "a = np.arange(10)**3\n",
        "print(a)"
      ],
      "execution_count": 0,
      "outputs": [
        {
          "output_type": "stream",
          "text": [
            "[  0   1   8  27  64 125 216 343 512 729]\n"
          ],
          "name": "stdout"
        }
      ]
    },
    {
      "cell_type": "code",
      "metadata": {
        "id": "1mGV9qdjmktg",
        "colab_type": "code",
        "outputId": "9c8ca543-7ac1-4a76-b7a0-93fbedf281a3",
        "colab": {
          "base_uri": "https://localhost:8080/",
          "height": 34
        }
      },
      "source": [
        "# indexing\n",
        "a[2]"
      ],
      "execution_count": 0,
      "outputs": [
        {
          "output_type": "stream",
          "text": [
            "8\n"
          ],
          "name": "stdout"
        }
      ]
    },
    {
      "cell_type": "code",
      "metadata": {
        "id": "gkNJ8uzOmtts",
        "colab_type": "code",
        "outputId": "ad4553b3-9c04-459e-abbe-8c6b983630e0",
        "colab": {
          "base_uri": "https://localhost:8080/",
          "height": 34
        }
      },
      "source": [
        "#slicing\n",
        "a[1:5]"
      ],
      "execution_count": 0,
      "outputs": [
        {
          "output_type": "execute_result",
          "data": {
            "text/plain": [
              "array([ 1,  8, 27, 64])"
            ]
          },
          "metadata": {
            "tags": []
          },
          "execution_count": 64
        }
      ]
    },
    {
      "cell_type": "code",
      "metadata": {
        "id": "WGUGb1TKnBZ8",
        "colab_type": "code",
        "outputId": "7c9e8454-ef91-4ae5-e3d8-73b59de4340d",
        "colab": {
          "base_uri": "https://localhost:8080/",
          "height": 34
        }
      },
      "source": [
        "print(a[:5])"
      ],
      "execution_count": 0,
      "outputs": [
        {
          "output_type": "stream",
          "text": [
            "[ 0  1  8 27 64]\n"
          ],
          "name": "stdout"
        }
      ]
    },
    {
      "cell_type": "code",
      "metadata": {
        "id": "xGZOEVX0nIhl",
        "colab_type": "code",
        "outputId": "5a574b52-c445-46e9-99e9-d52de28000f1",
        "colab": {
          "base_uri": "https://localhost:8080/",
          "height": 34
        }
      },
      "source": [
        "#Reverse an array\n",
        "print(a[::-1])"
      ],
      "execution_count": 0,
      "outputs": [
        {
          "output_type": "stream",
          "text": [
            "[729 512 343 216 125  64  27   8   1   0]\n"
          ],
          "name": "stdout"
        }
      ]
    },
    {
      "cell_type": "code",
      "metadata": {
        "id": "CclZwI4zniSC",
        "colab_type": "code",
        "outputId": "a2824381-8edb-4b21-bbe0-3f132c25041f",
        "colab": {
          "base_uri": "https://localhost:8080/",
          "height": 187
        }
      },
      "source": [
        "#interating\n",
        "for i in a:\n",
        "  print(i**(1/3))\n"
      ],
      "execution_count": 0,
      "outputs": [
        {
          "output_type": "stream",
          "text": [
            "0.0\n",
            "1.0\n",
            "2.0\n",
            "3.0\n",
            "3.9999999999999996\n",
            "4.999999999999999\n",
            "5.999999999999999\n",
            "6.999999999999999\n",
            "7.999999999999999\n",
            "8.999999999999998\n"
          ],
          "name": "stdout"
        }
      ]
    },
    {
      "cell_type": "markdown",
      "metadata": {
        "id": "OOLZwm08olHl",
        "colab_type": "text"
      },
      "source": [
        "Extracting specific rows and columns using slicing\n",
        "\n",
        "---\n",
        "\n"
      ]
    },
    {
      "cell_type": "code",
      "metadata": {
        "id": "W8xUS7eTqOWq",
        "colab_type": "code",
        "outputId": "206d734e-f033-4a53-b7af-53d1d6b0c60b",
        "colab": {
          "base_uri": "https://localhost:8080/",
          "height": 102
        }
      },
      "source": [
        "import numpy as np\n",
        "\n",
        "a = np.array([[1,2,3],[3,4,5],[4,5,6]])\n",
        "print(a)\n",
        "\n",
        "# Slice first two rows and first two columns\n",
        "print(a[0:2,0:2]) "
      ],
      "execution_count": 0,
      "outputs": [
        {
          "output_type": "stream",
          "text": [
            "[[1 2 3]\n",
            " [3 4 5]\n",
            " [4 5 6]]\n",
            "[[1 2]\n",
            " [3 4]]\n"
          ],
          "name": "stdout"
        }
      ]
    },
    {
      "cell_type": "markdown",
      "metadata": {
        "id": "JWJ7-Vnxq41W",
        "colab_type": "text"
      },
      "source": [
        "**Reading and Writing from File:**\n",
        "\n",
        "---\n",
        "\n",
        "NumPy provides the option of importing data from files directly into ndarray using the ***loadtxt () ***function\n",
        "\n",
        "The savetxt() function can be used to write data from an array into the text file"
      ]
    },
    {
      "cell_type": "code",
      "metadata": {
        "id": "41B3YxFqrsmK",
        "colab_type": "code",
        "colab": {}
      },
      "source": [
        "arr = np.loadtxt('filex.txt')\n",
        "np.savetxt('newfilex.txt')"
      ],
      "execution_count": 0,
      "outputs": []
    }
  ]
}