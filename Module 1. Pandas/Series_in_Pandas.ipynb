{
  "nbformat": 4,
  "nbformat_minor": 0,
  "metadata": {
    "colab": {
      "name": "Series_in_Pandas.ipynb",
      "version": "0.3.2",
      "provenance": [],
      "collapsed_sections": []
    },
    "kernelspec": {
      "name": "python3",
      "display_name": "Python 3"
    }
  },
  "cells": [
    {
      "cell_type": "markdown",
      "metadata": {
        "id": "rVgNthps4gGo",
        "colab_type": "text"
      },
      "source": [
        "# Series\n",
        "\n",
        "---\n",
        "**Series** is **one-dimensional** labeled array structures that stores homogeneous data i.e., data of single type. \n",
        "\n",
        "All the elements of series are **value-mutable** and **size-immutable**\n",
        "\n",
        "---\n",
        "\n",
        "In other words, **Series** is a **one-dimensional labeled array** capable of holding any data type (integers, strings, floating point numbers, Python objects, etc.). The axis labels are collectively referred to as the index. The basic method to create a Series is to call:\n",
        "\n",
        "**s = pd.Series(data, index=index)**"
      ]
    },
    {
      "cell_type": "markdown",
      "metadata": {
        "id": "iL1MUaYl4jav",
        "colab_type": "text"
      },
      "source": [
        "Here, data can be many different things:\n",
        "\n",
        "*   a Python dict\n",
        "*   an ndarray\n",
        "*   a scalar value (like 5)\n",
        "\n",
        "---\n",
        "\n",
        "The passed index is a list of axis labels. Thus, this separates into a few cases depending on **what data is:**\n",
        "\n",
        "---\n"
      ]
    },
    {
      "cell_type": "code",
      "metadata": {
        "id": "CV0pdwfE4si2",
        "colab_type": "code",
        "colab": {}
      },
      "source": [
        "import numpy as np\n",
        "import pandas as pd"
      ],
      "execution_count": 0,
      "outputs": []
    },
    {
      "cell_type": "code",
      "metadata": {
        "id": "C6IId1co4ZvD",
        "colab_type": "code",
        "colab": {
          "base_uri": "https://localhost:8080/",
          "height": 119
        },
        "outputId": "a695adb3-a025-4aa2-f4fc-7306b29a5310"
      },
      "source": [
        "# Create a Series from ndarray\n",
        "\n",
        "arr = np.array([10,20,30,40,50])\n",
        "\n",
        "s = pd.Series(arr)\n",
        "\n",
        "print(s)"
      ],
      "execution_count": 8,
      "outputs": [
        {
          "output_type": "stream",
          "text": [
            "0    10\n",
            "1    20\n",
            "2    30\n",
            "3    40\n",
            "4    50\n",
            "dtype: int64\n"
          ],
          "name": "stdout"
        }
      ]
    },
    {
      "cell_type": "code",
      "metadata": {
        "id": "zjDYexxx7_vi",
        "colab_type": "code",
        "colab": {
          "base_uri": "https://localhost:8080/",
          "height": 119
        },
        "outputId": "bbeedb90-988a-45fa-814b-7215b1b1270f"
      },
      "source": [
        "# index the rows\n",
        "s = pd.Series(np.random.randn(5), index=['a', 'b', 'c', 'd', 'e'])\n",
        "print(s)"
      ],
      "execution_count": 10,
      "outputs": [
        {
          "output_type": "stream",
          "text": [
            "a   -1.439503\n",
            "b    0.259271\n",
            "c   -1.686991\n",
            "d    0.699954\n",
            "e    0.518298\n",
            "dtype: float64\n"
          ],
          "name": "stdout"
        }
      ]
    },
    {
      "cell_type": "code",
      "metadata": {
        "id": "eK-TlhZc8o2X",
        "colab_type": "code",
        "colab": {
          "base_uri": "https://localhost:8080/",
          "height": 85
        },
        "outputId": "204c469b-9a80-4124-aa32-68f541f6860d"
      },
      "source": [
        "# Creating a Series from a Python dictionary (dict)\n",
        "data = {\"a\":10, \"b\":20, \"c\":30}\n",
        "\n",
        "s = pd.Series(data)\n",
        "print(s)"
      ],
      "execution_count": 15,
      "outputs": [
        {
          "output_type": "stream",
          "text": [
            "a    10\n",
            "b    20\n",
            "c    30\n",
            "dtype: int64\n"
          ],
          "name": "stdout"
        }
      ]
    },
    {
      "cell_type": "code",
      "metadata": {
        "id": "91Bf1I4g9bDL",
        "colab_type": "code",
        "colab": {
          "base_uri": "https://localhost:8080/",
          "height": 102
        },
        "outputId": "7053ca26-492c-4dec-fb39-22d72b83571b"
      },
      "source": [
        "# # Creating a Series from a Python List\n",
        "\n",
        "li = [10, 20.5, 2j, \"abc\"]\n",
        "\n",
        "s = pd.Series(li)\n",
        "print(s)"
      ],
      "execution_count": 19,
      "outputs": [
        {
          "output_type": "stream",
          "text": [
            "0      10\n",
            "1    20.5\n",
            "2      2j\n",
            "3     abc\n",
            "dtype: object\n"
          ],
          "name": "stdout"
        }
      ]
    },
    {
      "cell_type": "markdown",
      "metadata": {
        "id": "9kRo6zBz95Rr",
        "colab_type": "text"
      },
      "source": [
        "**Creating Series from scalar value**\n",
        "\n",
        "If data is a scalar value, an index must be provided. The value will be repeated to match the length of index.\n",
        "\n",
        "---\n",
        "\n",
        "Example1:"
      ]
    },
    {
      "cell_type": "code",
      "metadata": {
        "id": "ChmL17MU9w3t",
        "colab_type": "code",
        "colab": {
          "base_uri": "https://localhost:8080/",
          "height": 119
        },
        "outputId": "15679d60-e4e7-4299-b86d-59641beb7315"
      },
      "source": [
        "s = pd.Series(5.0, index=('a','b','c','d','e'))\n",
        "\n",
        "print(s)"
      ],
      "execution_count": 21,
      "outputs": [
        {
          "output_type": "stream",
          "text": [
            "a    5.0\n",
            "b    5.0\n",
            "c    5.0\n",
            "d    5.0\n",
            "e    5.0\n",
            "dtype: float64\n"
          ],
          "name": "stdout"
        }
      ]
    },
    {
      "cell_type": "markdown",
      "metadata": {
        "id": "_mqNh5t5-Njq",
        "colab_type": "text"
      },
      "source": [
        "**Accessing Data from a Series:**\n",
        "\n",
        "---\n",
        "\n",
        "**Slicing:** Retrieving a part of the series using slicing.\n",
        "\n",
        "Series acts very similarly to a ndarray, and is a valid argument to most NumPy functions. However, operations such as slicing will also **slice the index**.\n",
        "\n",
        "--- \n",
        "\n",
        "Example:\n"
      ]
    },
    {
      "cell_type": "code",
      "metadata": {
        "id": "983JmGda-OMM",
        "colab_type": "code",
        "colab": {
          "base_uri": "https://localhost:8080/",
          "height": 119
        },
        "outputId": "3b57791f-a75d-4b0a-e84d-b572f46302ff"
      },
      "source": [
        "arr = ([10,20,30,40,50])\n",
        "s = pd.Series(arr)\n",
        "\n",
        "print(s)"
      ],
      "execution_count": 23,
      "outputs": [
        {
          "output_type": "stream",
          "text": [
            "0    10\n",
            "1    20\n",
            "2    30\n",
            "3    40\n",
            "4    50\n",
            "dtype: int64\n"
          ],
          "name": "stdout"
        }
      ]
    },
    {
      "cell_type": "code",
      "metadata": {
        "id": "yR15cDjn-Trc",
        "colab_type": "code",
        "colab": {
          "base_uri": "https://localhost:8080/",
          "height": 255
        },
        "outputId": "663e6ac9-c160-4bc3-bf44-989d32d0a069"
      },
      "source": [
        "# slicing or slice of index\n",
        "print(s[2:4])\n",
        "print(s[:5])\n",
        "print(s[1:])"
      ],
      "execution_count": 31,
      "outputs": [
        {
          "output_type": "stream",
          "text": [
            "2    30\n",
            "3    40\n",
            "dtype: int64\n",
            "0    10\n",
            "1    20\n",
            "2    30\n",
            "3    40\n",
            "4    50\n",
            "dtype: int64\n",
            "1    20\n",
            "2    30\n",
            "3    40\n",
            "4    50\n",
            "dtype: int64\n"
          ],
          "name": "stdout"
        }
      ]
    },
    {
      "cell_type": "code",
      "metadata": {
        "id": "11tANJjp-vJS",
        "colab_type": "code",
        "colab": {
          "base_uri": "https://localhost:8080/",
          "height": 119
        },
        "outputId": "aae1e397-1e4f-42e7-d4bb-8403e71e0a8b"
      },
      "source": [
        "# Reverse the series\n",
        "print(s[::-1])"
      ],
      "execution_count": 38,
      "outputs": [
        {
          "output_type": "stream",
          "text": [
            "4    50\n",
            "3    40\n",
            "2    30\n",
            "1    20\n",
            "0    10\n",
            "dtype: int64\n"
          ],
          "name": "stdout"
        }
      ]
    },
    {
      "cell_type": "markdown",
      "metadata": {
        "id": "o7vp7Aaw_TIj",
        "colab_type": "text"
      },
      "source": [
        "Access Series is **dict-like**\n",
        "\n",
        "\n",
        "---\n",
        "\n",
        "\n",
        "A Series is like a fixed-size dict in that you can get and set values by index label:"
      ]
    },
    {
      "cell_type": "code",
      "metadata": {
        "id": "C8Qjsp5w_Tzi",
        "colab_type": "code",
        "colab": {
          "base_uri": "https://localhost:8080/",
          "height": 102
        },
        "outputId": "cf814962-02d3-4504-a630-ce87c2e9b44e"
      },
      "source": [
        "data = {'a':10, 'b':20, 'c':30}\n",
        "s = pd.Series(data)\n",
        "print(s)\n",
        "\n",
        "print(s['a']) #Accessing index value assign key "
      ],
      "execution_count": 39,
      "outputs": [
        {
          "output_type": "stream",
          "text": [
            "a    10\n",
            "b    20\n",
            "c    30\n",
            "dtype: int64\n",
            "10\n"
          ],
          "name": "stdout"
        }
      ]
    },
    {
      "cell_type": "markdown",
      "metadata": {
        "id": "rasMBgnALOO5",
        "colab_type": "text"
      },
      "source": [
        "**Vectorized operations and label alignment with Series**"
      ]
    },
    {
      "cell_type": "code",
      "metadata": {
        "id": "L6JIZPqVLO_C",
        "colab_type": "code",
        "colab": {
          "base_uri": "https://localhost:8080/",
          "height": 221
        },
        "outputId": "49262c9d-93f2-4ae6-a2cd-f6f606d7c3f1"
      },
      "source": [
        "print (s + s) #Addition of two series\n",
        "\n",
        "print(s*2) #Multiplication of two series\n",
        "\n",
        "print(np.exp(s)) #Exponential value "
      ],
      "execution_count": 40,
      "outputs": [
        {
          "output_type": "stream",
          "text": [
            "a    20\n",
            "b    40\n",
            "c    60\n",
            "dtype: int64\n",
            "a    20\n",
            "b    40\n",
            "c    60\n",
            "dtype: int64\n",
            "a    2.202647e+04\n",
            "b    4.851652e+08\n",
            "c    1.068647e+13\n",
            "dtype: float64\n"
          ],
          "name": "stdout"
        }
      ]
    },
    {
      "cell_type": "markdown",
      "metadata": {
        "id": "I3UOAMCILaTp",
        "colab_type": "text"
      },
      "source": [
        "**Name attribute**\n",
        "\n",
        "Series can also have a name attribute:\n",
        "\n",
        "\n",
        "---\n",
        "\n",
        "Example:\n"
      ]
    },
    {
      "cell_type": "code",
      "metadata": {
        "id": "RgU6R2G5Lboo",
        "colab_type": "code",
        "colab": {
          "base_uri": "https://localhost:8080/",
          "height": 119
        },
        "outputId": "ddb87b71-10f3-41f6-b925-0ec617c052e3"
      },
      "source": [
        "s = pd.Series(np.random.randn(5), name='something')\n",
        "print(s)"
      ],
      "execution_count": 42,
      "outputs": [
        {
          "output_type": "stream",
          "text": [
            "0    2.227480\n",
            "1    1.494229\n",
            "2    1.102612\n",
            "3   -0.345154\n",
            "4   -1.807866\n",
            "Name: something, dtype: float64\n"
          ],
          "name": "stdout"
        }
      ]
    },
    {
      "cell_type": "code",
      "metadata": {
        "id": "bqea_dMlLea9",
        "colab_type": "code",
        "colab": {
          "base_uri": "https://localhost:8080/",
          "height": 119
        },
        "outputId": "d4d74b53-b9dd-4c09-bc26-57001408f89c"
      },
      "source": [
        "# You can rename a Series with the pandas.Series.rename() method.\n",
        "s2 = s.rename(\"different\")\n",
        "print(s2)"
      ],
      "execution_count": 44,
      "outputs": [
        {
          "output_type": "stream",
          "text": [
            "0    2.227480\n",
            "1    1.494229\n",
            "2    1.102612\n",
            "3   -0.345154\n",
            "4   -1.807866\n",
            "Name: different, dtype: float64\n"
          ],
          "name": "stdout"
        }
      ]
    }
  ]
}