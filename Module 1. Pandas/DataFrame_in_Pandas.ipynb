{
  "nbformat": 4,
  "nbformat_minor": 0,
  "metadata": {
    "colab": {
      "name": "DataFrame_in_Pandas.ipynb",
      "version": "0.3.2",
      "provenance": []
    },
    "kernelspec": {
      "name": "python3",
      "display_name": "Python 3"
    }
  },
  "cells": [
    {
      "cell_type": "markdown",
      "metadata": {
        "id": "spSYIbDtMoqe",
        "colab_type": "text"
      },
      "source": [
        "# Data Frame\n",
        "\n",
        "**A Data Frame** is a **2D data structure** in which data is aligned in a tabular fashion consisting of **rows and columns**\n",
        "\n",
        "A Data Frame can be created using the following constructor:\n",
        "\n",
        "df = pandas.DataFrame(data, index, dtype, copy)\n",
        "\n",
        "---\n",
        "\n",
        "DataFrame accepts many different kinds of input:\n",
        "\n",
        "*   Dict of 1D ndarrays, lists, dicts, or Series\n",
        "*   2-D numpy.ndarray\n",
        "*   Structured or record ndarray\n",
        "*   A Series\n",
        "*   Another DataFrame\n",
        "\n",
        "Along with the data, you can optionally pass index (row labels) and columns (column labels) arguments.\n",
        "\n",
        "---\n",
        "\n"
      ]
    },
    {
      "cell_type": "markdown",
      "metadata": {
        "id": "Fl7rZ74kMv3N",
        "colab_type": "text"
      },
      "source": [
        "**Creating a Data Frame using List**\n",
        "\n",
        "---\n",
        "\n",
        "Converting **list** into **Data Frame**"
      ]
    },
    {
      "cell_type": "code",
      "metadata": {
        "id": "69pN-MpSMj5u",
        "colab_type": "code",
        "colab": {}
      },
      "source": [
        "import numpy as np\n",
        "import pandas as pd"
      ],
      "execution_count": 0,
      "outputs": []
    },
    {
      "cell_type": "markdown",
      "metadata": {
        "id": "jdyuZPyKNdzL",
        "colab_type": "text"
      },
      "source": [
        "**Create DataFrame using List in Python**\n",
        "\n",
        "---\n",
        "\n",
        "\n"
      ]
    },
    {
      "cell_type": "code",
      "metadata": {
        "id": "3AYo4uBrNCSx",
        "colab_type": "code",
        "colab": {
          "base_uri": "https://localhost:8080/",
          "height": 119
        },
        "outputId": "b136ad0d-6251-4ee6-85ba-33ae8693efba"
      },
      "source": [
        "listx = [10, 20, 30, 40, 50]\n",
        "\n",
        "table = pd.DataFrame(listx)\n",
        "\n",
        "print (table)"
      ],
      "execution_count": 3,
      "outputs": [
        {
          "output_type": "stream",
          "text": [
            "    0\n",
            "0  10\n",
            "1  20\n",
            "2  30\n",
            "3  40\n",
            "4  50\n"
          ],
          "name": "stdout"
        }
      ]
    },
    {
      "cell_type": "markdown",
      "metadata": {
        "id": "0xkKOR9nNZbM",
        "colab_type": "text"
      },
      "source": [
        "**Creating a Data Frame from a list of dictionary**\n",
        "\n",
        "---\n"
      ]
    },
    {
      "cell_type": "code",
      "metadata": {
        "id": "RXhXQDOZNZ1t",
        "colab_type": "code",
        "colab": {
          "base_uri": "https://localhost:8080/",
          "height": 85
        },
        "outputId": "d503c0c5-1756-451a-be8d-aeb06189318f"
      },
      "source": [
        "data_list = [{'a':10, 'b':20},{'a':50, 'b':70},{'a':310, 'b':40}]\n",
        "\n",
        "table = pd.DataFrame(data_list, index=('row-1','row-2','row-3'))\n",
        "\n",
        "print(table)"
      ],
      "execution_count": 15,
      "outputs": [
        {
          "output_type": "stream",
          "text": [
            "         a   b\n",
            "row-1   10  20\n",
            "row-2   50  70\n",
            "row-3  310  40\n"
          ],
          "name": "stdout"
        }
      ]
    },
    {
      "cell_type": "code",
      "metadata": {
        "id": "OfvxG9ZPOk4r",
        "colab_type": "code",
        "colab": {
          "base_uri": "https://localhost:8080/",
          "height": 68
        },
        "outputId": "58ca6d7d-367c-4798-b94f-ba4ceb6de5da"
      },
      "source": [
        "data_list = [{'a':10, 'b':20},{'a':20, 'b':30,'c':40}]\n",
        "table = pd.DataFrame(data_list, index = ['first','second'])\n",
        "print(table)"
      ],
      "execution_count": 18,
      "outputs": [
        {
          "output_type": "stream",
          "text": [
            "         a   b     c\n",
            "first   10  20   NaN\n",
            "second  20  30  40.0\n"
          ],
          "name": "stdout"
        }
      ]
    },
    {
      "cell_type": "markdown",
      "metadata": {
        "id": "_j-0tKWSOumZ",
        "colab_type": "text"
      },
      "source": [
        "**Converting a dictionary of series into a Data Frame:**"
      ]
    },
    {
      "cell_type": "code",
      "metadata": {
        "id": "mKnLQlK8Os_o",
        "colab_type": "code",
        "colab": {
          "base_uri": "https://localhost:8080/",
          "height": 102
        },
        "outputId": "eb0220c0-6333-4756-f384-b3e378476802"
      },
      "source": [
        "d = {'one': pd.Series([1., 2., 3.], index=['a', 'b', 'c']),'two': pd.Series([1., 2., 3., 4.], index=['a', 'b', 'c', 'd'])}\n",
        "df = pd.DataFrame(d)\n",
        "print(df)"
      ],
      "execution_count": 21,
      "outputs": [
        {
          "output_type": "stream",
          "text": [
            "   one  two\n",
            "a  1.0  1.0\n",
            "b  2.0  2.0\n",
            "c  3.0  3.0\n",
            "d  NaN  4.0\n"
          ],
          "name": "stdout"
        }
      ]
    },
    {
      "cell_type": "code",
      "metadata": {
        "id": "ZLyYs7cdO4j6",
        "colab_type": "code",
        "colab": {
          "base_uri": "https://localhost:8080/",
          "height": 85
        },
        "outputId": "a787ca4c-15f7-480a-a3bb-df7714c91df1"
      },
      "source": [
        "# Access Column \n",
        "\n",
        "df2 = pd.DataFrame(d, index=['d', 'b', 'a'])\n",
        "\n",
        "print(df2)"
      ],
      "execution_count": 23,
      "outputs": [
        {
          "output_type": "stream",
          "text": [
            "   one  two\n",
            "d  NaN  4.0\n",
            "b  2.0  2.0\n",
            "a  1.0  1.0\n"
          ],
          "name": "stdout"
        }
      ]
    },
    {
      "cell_type": "code",
      "metadata": {
        "id": "zGk0f349PCW5",
        "colab_type": "code",
        "colab": {
          "base_uri": "https://localhost:8080/",
          "height": 85
        },
        "outputId": "a31ffaba-e408-47da-9013-875ca0674356"
      },
      "source": [
        "# Access index (Row) and column\n",
        "\n",
        "df = pd.DataFrame(d, index=['d', 'b', 'a'], columns=['two', 'three'])\n",
        "print(df)\n",
        "\n",
        "#Note: The row and column labels can be accessed respectively by accessing the index and columns attributes."
      ],
      "execution_count": 24,
      "outputs": [
        {
          "output_type": "stream",
          "text": [
            "   two three\n",
            "d  4.0   NaN\n",
            "b  2.0   NaN\n",
            "a  1.0   NaN\n"
          ],
          "name": "stdout"
        }
      ]
    },
    {
      "cell_type": "markdown",
      "metadata": {
        "id": "3ZKuC8QLPOFi",
        "colab_type": "text"
      },
      "source": [
        "**Creating Data Frame From a list of dicts:**"
      ]
    },
    {
      "cell_type": "code",
      "metadata": {
        "id": "GNOnfEFwPGo5",
        "colab_type": "code",
        "colab": {
          "base_uri": "https://localhost:8080/",
          "height": 68
        },
        "outputId": "31898f42-66b7-459b-aef0-ed6f2e17adfd"
      },
      "source": [
        "data2 = [{'a': 1, 'b': 2}, {'a': 5, 'b': 10, 'c': 20}]\n",
        "table = pd.DataFrame(data2)\n",
        "print(table)"
      ],
      "execution_count": 26,
      "outputs": [
        {
          "output_type": "stream",
          "text": [
            "   a   b     c\n",
            "0  1   2   NaN\n",
            "1  5  10  20.0\n"
          ],
          "name": "stdout"
        }
      ]
    },
    {
      "cell_type": "markdown",
      "metadata": {
        "id": "34G0o_j8QGbm",
        "colab_type": "text"
      },
      "source": [
        "**Column selection, addition, deletion**\n",
        "\n",
        "\n",
        "---\n",
        "\n",
        "Add New Column in existing Data Frame"
      ]
    },
    {
      "cell_type": "code",
      "metadata": {
        "id": "tArYC7MsQEVA",
        "colab_type": "code",
        "colab": {
          "base_uri": "https://localhost:8080/",
          "height": 102
        },
        "outputId": "4c3fd554-90d7-4782-d2e5-d2c364d21347"
      },
      "source": [
        "d = {'one': pd.Series([1, 2, 3], index=['a', 'b', 'c']),\n",
        "     'two': pd.Series([1., 2., 3., 4.], index=['a', 'b', 'c', 'd'])}\n",
        "table = pd.DataFrame(d)\n",
        "\n",
        "#Adding new column\n",
        "\n",
        "table[\"three\"] = pd.Series([1, 2, 3], index = ['a', 'b', 'c'])\n",
        "\n",
        "print(table)"
      ],
      "execution_count": 29,
      "outputs": [
        {
          "output_type": "stream",
          "text": [
            "   one  two  three\n",
            "a  1.0  1.0    1.0\n",
            "b  2.0  2.0    2.0\n",
            "c  3.0  3.0    3.0\n",
            "d  NaN  4.0    NaN\n"
          ],
          "name": "stdout"
        }
      ]
    },
    {
      "cell_type": "code",
      "metadata": {
        "id": "2jUM3x9xQRdY",
        "colab_type": "code",
        "colab": {
          "base_uri": "https://localhost:8080/",
          "height": 102
        },
        "outputId": "0890152e-db41-48ef-f1f4-25febff3e5b5"
      },
      "source": [
        "#Adding new column with boolen values\n",
        "\n",
        "table['flag'] = table[\"three\"]>2\n",
        "\n",
        "print(table)"
      ],
      "execution_count": 30,
      "outputs": [
        {
          "output_type": "stream",
          "text": [
            "   one  two  three   flag\n",
            "a  1.0  1.0    1.0  False\n",
            "b  2.0  2.0    2.0  False\n",
            "c  3.0  3.0    3.0   True\n",
            "d  NaN  4.0    NaN  False\n"
          ],
          "name": "stdout"
        }
      ]
    },
    {
      "cell_type": "markdown",
      "metadata": {
        "id": "x0-hqqU-QaN_",
        "colab_type": "text"
      },
      "source": [
        "**Columns can be deleted or popped like with a dict:**\n",
        "\n",
        "---\n",
        "\n",
        "Data Frame column can be deleted using  the **del () function:**"
      ]
    },
    {
      "cell_type": "code",
      "metadata": {
        "id": "FaPNJ-rxQav3",
        "colab_type": "code",
        "colab": {
          "base_uri": "https://localhost:8080/",
          "height": 102
        },
        "outputId": "1fdfd5d7-a567-4902-e267-5cf4c2238241"
      },
      "source": [
        "del table['two']\n",
        "print(table)"
      ],
      "execution_count": 31,
      "outputs": [
        {
          "output_type": "stream",
          "text": [
            "   one  three   flag\n",
            "a  1.0    1.0  False\n",
            "b  2.0    2.0  False\n",
            "c  3.0    3.0   True\n",
            "d  NaN    NaN  False\n"
          ],
          "name": "stdout"
        }
      ]
    },
    {
      "cell_type": "markdown",
      "metadata": {
        "id": "m7YR_Ml-Qgw-",
        "colab_type": "text"
      },
      "source": [
        "Data Frame Column can be deleted using the **pop() function**:\n",
        "\n",
        "---\n",
        "\n",
        "**pop()** methond is an inbuilt function in Python that removes and returns last value from the list or the given index value."
      ]
    },
    {
      "cell_type": "code",
      "metadata": {
        "id": "x0dz8b_5Qhkf",
        "colab_type": "code",
        "colab": {
          "base_uri": "https://localhost:8080/",
          "height": 187
        },
        "outputId": "89b9cdc5-e137-4a6d-e0b9-ac524d94f30a"
      },
      "source": [
        "three = table.pop('three')\n",
        "\n",
        "print(three)\n",
        "\n",
        "print(table)"
      ],
      "execution_count": 32,
      "outputs": [
        {
          "output_type": "stream",
          "text": [
            "a    1.0\n",
            "b    2.0\n",
            "c    3.0\n",
            "d    NaN\n",
            "Name: three, dtype: float64\n",
            "   one   flag\n",
            "a  1.0  False\n",
            "b  2.0  False\n",
            "c  3.0   True\n",
            "d  NaN  False\n"
          ],
          "name": "stdout"
        }
      ]
    },
    {
      "cell_type": "markdown",
      "metadata": {
        "id": "jabiAgdiQoSv",
        "colab_type": "text"
      },
      "source": [
        "When inserting **a scalar value**, it will naturally be propagated to fill the column:\n",
        "\n",
        "---\n"
      ]
    },
    {
      "cell_type": "code",
      "metadata": {
        "id": "4zCe_0hkQovw",
        "colab_type": "code",
        "colab": {
          "base_uri": "https://localhost:8080/",
          "height": 102
        },
        "outputId": "06b525eb-c397-4b94-ffe5-67c15631d575"
      },
      "source": [
        "table[\"foo\"] = \"bar\"\n",
        "print(table)"
      ],
      "execution_count": 33,
      "outputs": [
        {
          "output_type": "stream",
          "text": [
            "   one   flag  foo\n",
            "a  1.0  False  bar\n",
            "b  2.0  False  bar\n",
            "c  3.0   True  bar\n",
            "d  NaN  False  bar\n"
          ],
          "name": "stdout"
        }
      ]
    },
    {
      "cell_type": "markdown",
      "metadata": {
        "id": "3JTOG_QLRnV3",
        "colab_type": "text"
      },
      "source": [
        "**Indexing / Selection**\n",
        "\n",
        "---\n",
        "\n",
        "**The basics of indexing are as follows:**\n",
        "\n",
        "\n",
        "---\n",
        "\n",
        "**Operation\t      -->    Syntax\t       -->         Result**\n",
        "\n",
        "---\n",
        "\n",
        "Select column\t    -->** df[col]**\t--> Series\n",
        "\n",
        "Select row by label\t--> **df.loc[label]**\t--> Series\n",
        "\n",
        "Select row by integer location -->\t**df.iloc[loc]**\t--> Series\n",
        "\n",
        "Slice rows\t--> **df[5:10]\t**--> DataFrame\n",
        "\n",
        "Select rows by boolean vector\t--> **df[bool_vec]**\t--> DataFrame\n",
        "\n",
        "---\n",
        "\n",
        "Example : Row selection, for example, returns a Series whose index is the columns of the DataFrame:"
      ]
    },
    {
      "cell_type": "code",
      "metadata": {
        "id": "iP45QHzGRoA1",
        "colab_type": "code",
        "colab": {
          "base_uri": "https://localhost:8080/",
          "height": 85
        },
        "outputId": "56983c33-9adb-4b0d-caf8-e536038cf655"
      },
      "source": [
        "table.loc[\"a\"]"
      ],
      "execution_count": 35,
      "outputs": [
        {
          "output_type": "execute_result",
          "data": {
            "text/plain": [
              "one         1\n",
              "flag    False\n",
              "foo       bar\n",
              "Name: a, dtype: object"
            ]
          },
          "metadata": {
            "tags": []
          },
          "execution_count": 35
        }
      ]
    },
    {
      "cell_type": "code",
      "metadata": {
        "id": "Od62ghPnRzEl",
        "colab_type": "code",
        "colab": {
          "base_uri": "https://localhost:8080/",
          "height": 85
        },
        "outputId": "bf6c5b47-7a41-4443-9c3f-d9ec001d5ebc"
      },
      "source": [
        "table.iloc[2]"
      ],
      "execution_count": 36,
      "outputs": [
        {
          "output_type": "execute_result",
          "data": {
            "text/plain": [
              "one        3\n",
              "flag    True\n",
              "foo      bar\n",
              "Name: c, dtype: object"
            ]
          },
          "metadata": {
            "tags": []
          },
          "execution_count": 36
        }
      ]
    },
    {
      "cell_type": "markdown",
      "metadata": {
        "id": "rkh_cAb-Sc_m",
        "colab_type": "text"
      },
      "source": [
        "# **Data Frame - Row Addtion:**\n",
        "\n",
        "---\n",
        "\n",
        "The **append() function **can be used to add one or more rows into the Data Frame\n"
      ]
    },
    {
      "cell_type": "code",
      "metadata": {
        "id": "8019jZAgRzpq",
        "colab_type": "code",
        "colab": {
          "base_uri": "https://localhost:8080/",
          "height": 374
        },
        "outputId": "e0247385-3190-458b-b96d-bebc65a5201d"
      },
      "source": [
        "print(table)\n",
        "print(\"----------------------------------------\")\n",
        "row = pd.DataFrame([[1,'True'],[3,'False']], columns = ['one','flag'])\n",
        "table1= table.append(row)\n",
        "print(table1)"
      ],
      "execution_count": 37,
      "outputs": [
        {
          "output_type": "stream",
          "text": [
            "   one   flag  foo\n",
            "a  1.0  False  bar\n",
            "b  2.0  False  bar\n",
            "c  3.0   True  bar\n",
            "d  NaN  False  bar\n",
            "----------------------------------------\n",
            "    flag  foo  one\n",
            "a  False  bar  1.0\n",
            "b  False  bar  2.0\n",
            "c   True  bar  3.0\n",
            "d  False  bar  NaN\n",
            "0   True  NaN  1.0\n",
            "1  False  NaN  3.0\n"
          ],
          "name": "stdout"
        },
        {
          "output_type": "stream",
          "text": [
            "/usr/local/lib/python3.6/dist-packages/pandas/core/frame.py:6692: FutureWarning: Sorting because non-concatenation axis is not aligned. A future version\n",
            "of pandas will change to not sort by default.\n",
            "\n",
            "To accept the future behavior, pass 'sort=False'.\n",
            "\n",
            "To retain the current behavior and silence the warning, pass 'sort=True'.\n",
            "\n",
            "  sort=sort)\n"
          ],
          "name": "stderr"
        }
      ]
    },
    {
      "cell_type": "markdown",
      "metadata": {
        "id": "_EqdhAO0StXq",
        "colab_type": "text"
      },
      "source": [
        "**Data Frame - Row Deletion:**\n",
        "\n",
        "---\n",
        "\n",
        "The drop() function can be used to drop rows whose labels are provided\n"
      ]
    },
    {
      "cell_type": "code",
      "metadata": {
        "id": "xGbhf7lhSgWM",
        "colab_type": "code",
        "colab": {
          "base_uri": "https://localhost:8080/",
          "height": 119
        },
        "outputId": "03af3b01-1157-40ce-962a-f3a6146cc8fa"
      },
      "source": [
        "table1 = table1.drop('d')\n",
        "print(table1)"
      ],
      "execution_count": 38,
      "outputs": [
        {
          "output_type": "stream",
          "text": [
            "    flag  foo  one\n",
            "a  False  bar  1.0\n",
            "b  False  bar  2.0\n",
            "c   True  bar  3.0\n",
            "0   True  NaN  1.0\n",
            "1  False  NaN  3.0\n"
          ],
          "name": "stdout"
        }
      ]
    },
    {
      "cell_type": "markdown",
      "metadata": {
        "id": "uBjyAR4hTXfD",
        "colab_type": "text"
      },
      "source": [
        "**Data alignment and arithmetic:**\n",
        "\n",
        "---\n",
        "\n",
        "Data alignment between DataFrame objects automatically align on both the columns and the index (row labels). Again, the resulting object will have the union of the column and row labels."
      ]
    },
    {
      "cell_type": "code",
      "metadata": {
        "id": "PavuYsyOTYL7",
        "colab_type": "code",
        "colab": {
          "base_uri": "https://localhost:8080/",
          "height": 204
        },
        "outputId": "76554565-87af-4831-e323-414497fccdad"
      },
      "source": [
        "df = pd.DataFrame(np.random.randn(10, 4), columns=['A', 'B', 'C', 'D'])\n",
        "\n",
        "df2 = pd.DataFrame(np.random.randn(7, 3), columns=['A', 'B', 'C'])\n",
        "\n",
        "print(df + df2)"
      ],
      "execution_count": 39,
      "outputs": [
        {
          "output_type": "stream",
          "text": [
            "          A         B         C   D\n",
            "0 -0.628508  1.725136  1.105064 NaN\n",
            "1  1.302424 -1.212615 -2.771346 NaN\n",
            "2 -0.319537  0.230366  0.203374 NaN\n",
            "3 -1.371339 -0.303615  0.956477 NaN\n",
            "4 -0.763576  1.085715  0.500240 NaN\n",
            "5 -0.448892 -0.516872  0.918055 NaN\n",
            "6  0.032101 -0.788190  0.504626 NaN\n",
            "7       NaN       NaN       NaN NaN\n",
            "8       NaN       NaN       NaN NaN\n",
            "9       NaN       NaN       NaN NaN\n"
          ],
          "name": "stdout"
        }
      ]
    },
    {
      "cell_type": "markdown",
      "metadata": {
        "id": "dNamDthWTo2y",
        "colab_type": "text"
      },
      "source": [
        "**When doing an operation between DataFrame and Series, the default behavior is to align the Series index on the DataFrame columns, thus broadcasting row-wise.** \n",
        "\n",
        "---\n",
        "\n",
        "\n",
        "For example:"
      ]
    },
    {
      "cell_type": "code",
      "metadata": {
        "id": "KVu4JMxPTaYq",
        "colab_type": "code",
        "colab": {
          "base_uri": "https://localhost:8080/",
          "height": 204
        },
        "outputId": "6ed410af-033a-4785-992a-4872b9f1bf73"
      },
      "source": [
        "print(df - df.iloc[0])"
      ],
      "execution_count": 40,
      "outputs": [
        {
          "output_type": "stream",
          "text": [
            "          A         B         C         D\n",
            "0  0.000000  0.000000  0.000000  0.000000\n",
            "1  0.824768 -2.460827 -2.676223  1.011748\n",
            "2  0.349232  0.272975 -0.272810 -1.182524\n",
            "3  0.547732 -0.575034  1.405389 -1.511950\n",
            "4  1.119286 -0.832077  0.629325 -0.509567\n",
            "5  0.499502 -0.751341  0.890200 -1.372174\n",
            "6  0.535682 -1.225824 -1.347111  0.441199\n",
            "7 -0.414519 -1.534890 -1.967859 -0.849740\n",
            "8 -0.260617 -0.657236 -0.158754 -0.689994\n",
            "9  0.491952  0.368275  1.144435 -1.025913\n"
          ],
          "name": "stdout"
        }
      ]
    },
    {
      "cell_type": "code",
      "metadata": {
        "id": "IFyBqaVVTuPx",
        "colab_type": "code",
        "colab": {}
      },
      "source": [
        ""
      ],
      "execution_count": 0,
      "outputs": []
    }
  ]
}